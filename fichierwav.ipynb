{
 "cells": [
  {
   "cell_type": "markdown",
   "metadata": {
    "colab_type": "text",
    "id": "6NBnqB1w0X82"
   },
   "source": [
    "## Introduction\n",
    "Il existe de nombreux formats pour stocker les fichiers audio. Le format [wav](https://fr.wikipedia.org/wiki/WAVEform_audio_format) est en fait un conteneur qui comprend une en-tête de description suivie du signal audio lui-même. De nombreux formats de données sont possibles et le plus courant est un format sans perte (non compressé) tel que le format en entier 16 bits, [PCM](https://fr.wikipedia.org/wiki/Modulation_d%27impulsion_codée). L'objectif de ce notebook est d'être capable de lire un fichier .wav sous python et d'afficher la forme d'onde en fonction du temps. \n",
    "\n",
    "#### mots clefs : \n",
    "sounddevice, soundfile, échantillonnage\n",
    "\n",
    "## Packages python\n",
    "Nous allons utiliser les packages python \n",
    "* [IPython](https://ipython.org/ipython-doc/3/api/generated/IPython.display.html) : pour jouer les signaux audio (numpy arrays) et enregistrer \n",
    "* [soundfile](https://pypi.python.org/pypi/SoundFile/0.8.1) : pour lire/écrire des fichiers .wav\n",
    "\n",
    "## Read and play\n",
    "Après installation de ces packages, vous êtes en mesure de lire un premier signal audio et de le jouer, c'est-à-dire l'envoyer vers le convertisseur numérique analogique (CNA) qui équipe la carte son de l'ordinateur. "
   ]
  },
  {
   "cell_type": "code",
   "execution_count": 1,
   "metadata": {
    "colab": {
     "base_uri": "https://localhost:8080/",
     "height": 380
    },
    "colab_type": "code",
    "executionInfo": {
     "elapsed": 709,
     "status": "error",
     "timestamp": 1550681491115,
     "user": {
      "displayName": "Geoffroy Peeters",
      "photoUrl": "",
      "userId": "05581296756554362113"
     },
     "user_tz": -60
    },
    "id": "NTj1VzvP0X85",
    "outputId": "8a512772-023a-44f6-a680-82ab3beb7905"
   },
   "outputs": [
    {
     "ename": "ModuleNotFoundError",
     "evalue": "No module named 'soundfile'",
     "output_type": "error",
     "traceback": [
      "\u001b[1;31m---------------------------------------------------------------------------\u001b[0m",
      "\u001b[1;31mModuleNotFoundError\u001b[0m                       Traceback (most recent call last)",
      "Cell \u001b[1;32mIn[1], line 2\u001b[0m\n\u001b[0;32m      1\u001b[0m \u001b[38;5;28;01mimport\u001b[39;00m \u001b[38;5;21;01mIPython\u001b[39;00m\u001b[38;5;21;01m.\u001b[39;00m\u001b[38;5;21;01mdisplay\u001b[39;00m \u001b[38;5;28;01mas\u001b[39;00m \u001b[38;5;21;01mipd\u001b[39;00m\n\u001b[1;32m----> 2\u001b[0m \u001b[38;5;28;01mimport\u001b[39;00m \u001b[38;5;21;01msoundfile\u001b[39;00m \u001b[38;5;28;01mas\u001b[39;00m \u001b[38;5;21;01msf\u001b[39;00m\n\u001b[0;32m      3\u001b[0m \u001b[38;5;66;03m# import sounddevice as sd  -> seulement si ipd ne fonctionne pas, décommentez cette ligne\u001b[39;00m\n\u001b[0;32m      4\u001b[0m \n\u001b[0;32m      5\u001b[0m \n\u001b[0;32m      6\u001b[0m \u001b[38;5;66;03m#lecture du fichier piano.wav\u001b[39;00m\n\u001b[0;32m      7\u001b[0m \u001b[38;5;66;03m#le fichier doit se trouver dans le même répertoire que le notebook\u001b[39;00m\n\u001b[0;32m      8\u001b[0m x, Fe \u001b[38;5;241m=\u001b[39m sf\u001b[38;5;241m.\u001b[39mread(\u001b[38;5;124m'\u001b[39m\u001b[38;5;124mpiano.wav\u001b[39m\u001b[38;5;124m'\u001b[39m)\n",
      "\u001b[1;31mModuleNotFoundError\u001b[0m: No module named 'soundfile'"
     ]
    }
   ],
   "source": [
    "import IPython.display as ipd\n",
    "import soundfile as sf\n",
    "# import sounddevice as sd  -> seulement si ipd ne fonctionne pas, décommentez cette ligne\n",
    "\n",
    "\n",
    "#lecture du fichier piano.wav\n",
    "#le fichier doit se trouver dans le même répertoire que le notebook\n",
    "x, Fe = sf.read('piano.wav')\n",
    "ipd.Audio(data=x, rate=Fe) # N.B. : ipd.Audio('piano.wav') fonctionne également\n",
    "# sd.play(x,Fe) -> seulement si ipd ne fonctionne pas, décommentez cette ligne"
   ]
  },
  {
   "cell_type": "markdown",
   "metadata": {
    "colab_type": "text",
    "id": "-giUC1eH0X9B"
   },
   "source": [
    "## Signal\n",
    "Le signal est enregistré dans l'ordinateur sous la forme d'une séquence finie de nombres, ici dans un `array` numpy `x`. Mathématiquement, ces signaux finis sont souvent notés sous forme de vecteurs de complexes, soit\n",
    "$$ \\mathbf{x}=[x(0) \\, x(1) \\, \\ldots \\, x(N-1)]^T $$\n",
    "où $ N $ est le nombre *d'échantillons*. Ce signal est un vecteur de $\\mathbb{C}^N$. \n",
    "\n",
    "## Affichage avec matplotlib\n",
    "Nous utiliserons le package d'affichage graphique `matplotlib`. Ses possibilités sont très grandes (légendes, subplot, titres, axes, animations, etc..) mais pour l'instant voici un exemple simple :"
   ]
  },
  {
   "cell_type": "code",
   "execution_count": 3,
   "metadata": {
    "colab": {},
    "colab_type": "code",
    "id": "4wbt_1SV0X9D",
    "outputId": "d7bd77c8-da34-40e5-d5b0-abb1f0667ff4"
   },
   "outputs": [
    {
     "data": {
      "image/png": "[encoded data removed]",
      "text/plain": [
       "<Figure size 432x288 with 1 Axes>"
      ]
     },
     "metadata": {
      "needs_background": "light"
     },
     "output_type": "display_data"
    }
   ],
   "source": [
    "%matplotlib inline\n",
    "import numpy as np\n",
    "import matplotlib.pyplot as plt\n",
    "\n",
    "pi = np.pi # la variable pi est prédéfinie dans numpy\n",
    "\n",
    "t = np.arange(10)\n",
    "x = t*pi\n",
    "\n",
    "plt.plot(t,x)\n",
    "plt.show()"
   ]
  },
  {
   "cell_type": "markdown",
   "metadata": {
    "colab_type": "text",
    "id": "LjaS6sNE0X9L"
   },
   "source": [
    "Un tutoriel se trouve [ici](https://matplotlib.org/stable/tutorials/introductory/pyplot.html#sphx-glr-tutorials-introductory-pyplot-py). \n",
    "## Affichage de la forme d'onde\n",
    "Le graphe des valeurs d'un signal 1D en fonction du temps s'appelle sa forme d'onde. Ici le signal considéré est échantillonné de manière régulière, ce qui signifie que ses valeurs sont prélevées tout les $T_e=F_e^{-1}$ secondes dans un signal à temps continu (analogique) $x_a(t)$. Soit $$x(n)=x_a(nT_e)$$\n",
    "C'est à vous de jouer dans la prochaine cellule de code : lire le fichier `piano.wav` et afficher la forme d'onde en fonction du temps. Renvoyer la valeur de la durée totale du fichier."
   ]
  },
  {
   "cell_type": "code",
   "execution_count": 4,
   "metadata": {
    "colab": {},
    "colab_type": "code",
    "id": "jWj8T1yJ0X9M"
   },
   "outputs": [],
   "source": [
    "# votre code ici"
   ]
  },
  {
   "cell_type": "markdown",
   "metadata": {
    "colab_type": "text",
    "id": "A1rN2bzO0X9P"
   },
   "source": [
    "## Mélodie aléatoire \n",
    "\n",
    "1. Créer un vecteur x sinusoïdal à la fréquence de $f_0 = 440$ Hz (La du diapason) pour un échantillonnage de 8000 échantillons par secondes. Sa longueur sera d’une 0.5 seconde. Jouer le son obtenu par\n",
    "`ipd.audio(data=x,rate=Fe)`. On\tpourra\taméliorer\tle\trendu\ten\tmultipliant\tle\tvecteur\tpar\tune\tfenêtre\tde\tHann (fonction `numpy.hanning`)\n",
    "2. Tirer une variable aléatoire gaussienne `y` d’écart-type 3 à\n",
    "l’aide de la fonction `np.random.randn`. Soit `r`, l’arrondi de `y` à l’entier le plus proche\n",
    "(fonction `np.round`).\n",
    "3. Pour monter d'un demi-ton (passer de la à la#) il suffit de multiplier $f_0$ par\n",
    "$\\alpha = 12\\sqrt{2}$. A l’aide d’une boucle `for` et de la concaténation (`np.concatenate`) créer une mélodie aléatoire de notes d’une 0.5 secondes dont l’intervalle (écart en demi-tons) avec la note précédente est `r`.\n",
    "4. Améliorations possibles : tirer une valeur rythmique aléatoire (fonction `np.random.randint`) entre 1 et 4 où 1 correspond à la blanche (durée 1s) et 4 à la\n",
    "double-croche (1/24 s) et/ou introduire de la distorsion (avant fenêtrage)\n",
    "sous la forme $x \\leftarrow x - 0.5 x^3 +\t0.3x^5$."
   ]
  },
  {
   "cell_type": "code",
   "execution_count": null,
   "metadata": {
    "colab": {},
    "colab_type": "code",
    "collapsed": true,
    "id": "vS8gaquw0X9Q"
   },
   "outputs": [],
   "source": [
    "# votre code ici"
   ]
  }
 ],
 "metadata": {
  "colab": {
   "name": "Fichier wav - Affichage.ipynb",
   "provenance": [],
   "version": "0.3.2"
  },
  "kernelspec": {
   "display_name": "Python 3 (ipykernel)",
   "language": "python",
   "name": "python3"
  },
  "language_info": {
   "codemirror_mode": {
    "name": "ipython",
    "version": 3
   },
   "file_extension": ".py",
   "mimetype": "text/x-python",
   "name": "python",
   "nbconvert_exporter": "python",
   "pygments_lexer": "ipython3",
   "version": "3.11.8"
  }
 },
 "nbformat": 4,
 "nbformat_minor": 1
}
